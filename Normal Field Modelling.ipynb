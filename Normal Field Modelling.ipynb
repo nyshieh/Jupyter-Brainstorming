{
 "cells": [
  {
   "cell_type": "markdown",
   "metadata": {},
   "source": [
    "# Normal Field Modelling from (Edwards and Nabighian 1991)"
   ]
  },
  {
   "cell_type": "markdown",
   "metadata": {},
   "source": [
    "Upward recursion FROM the $i^{th}$ layer\n",
    "\n",
    "Note:\n",
    "\n",
    "$Q_i$ is the top of the layer\n",
    "\n",
    "$Q_{i+1}$ is the bottom of the layer\n",
    "\n",
    "$$Q_i = \\frac{1}{\\rho_i \\lambda} \n",
    "\\left[\\frac\n",
    "{\\rho_i \\lambda Q_{i+1} + tanh(\\lambda d_i)}\n",
    "{\\rho_i \\lambda Q_{i+1} tanh(\\lambda d_i) + 1} \n",
    "\\right]$$\n",
    "\n",
    "$$Q = \\frac{B({\\lambda})}{\\mu E_r(\\lambda)}$$\n",
    "\n",
    "Starting value from the bottom:\n",
    "\n",
    "$$Q_N = \\frac{1}{\\rho_N\\lambda}$$"
   ]
  },
  {
   "cell_type": "markdown",
   "metadata": {},
   "source": [
    "Downward Recursion TO the $i^{th}$ layer\n",
    "\n",
    "$P_j$ is the bottom of the layer\n",
    "\n",
    "$P_{j+1}$ is the top of the layer\n",
    "\n",
    "$$P_j = \\frac{1}{\\rho_j \\lambda} \n",
    "\\left[\\frac\n",
    "{\\rho_j \\lambda Q_{j+1} + tanh(\\lambda d_j)}\n",
    "{\\rho_j \\lambda Q_{j+1} tanh(\\lambda d_j) + 1} \n",
    "\\right]$$\n",
    "\n",
    "$$P = \\left[\\frac\n",
    "{\\mu_0 I}{2\\pi\\lambda} - B(\\lambda) \\right]$$\n",
    "\n",
    "Starting value from the top:\n",
    "\n",
    "$$P_M = \\frac{1}{\\rho_m\\lambda}$$"
   ]
  },
  {
   "cell_type": "markdown",
   "metadata": {},
   "source": [
    "Recursing up and down yields\n",
    "\n",
    "SEED VALUE:\n",
    "\n",
    "$$B_1 = \\frac{\\mu_0 I}{2\\pi\\lambda} \n",
    "\\left[\\frac{Q_1}{Q_1 + P_1}\\right]$$\n",
    "\n",
    "$$B_{i+1} = B_i \\left[\\frac\n",
    "{\\rho_i\\lambda Q_{i+1} sech(\\lambda d_i)}\n",
    "{\\rho_i\\lambda Q_{i+1} + tanh(\\lambda d_i)}\n",
    "\\right]$$\n",
    "\n"
   ]
  },
  {
   "cell_type": "markdown",
   "metadata": {},
   "source": [
    "To translate to Henkel:\n",
    "\n",
    "$$A(\\lambda, z) = \\int_{0}^{\\infty} \n",
    "rA(r, z) J_1(\\lambda r)dr$$\n",
    "\n",
    "To translate to Realspace:\n",
    "\n",
    "$$A(r, z) = \\int_{0}^{\\infty} \n",
    "\\lambda A(\\lambda, z) J_1(\\lambda r)d\\lambda$$\n"
   ]
  },
  {
   "cell_type": "code",
   "execution_count": 19,
   "metadata": {},
   "outputs": [
    {
     "data": {
      "text/plain": [
       "array([[ 0.,  1.,  0.],\n",
       "       [-1.,  0.,  0.],\n",
       "       [ 0.,  0.,  1.]])"
      ]
     },
     "execution_count": 19,
     "metadata": {},
     "output_type": "execute_result"
    }
   ],
   "source": []
  },
  {
   "cell_type": "code",
   "execution_count": null,
   "metadata": {},
   "outputs": [],
   "source": []
  }
 ],
 "metadata": {
  "kernelspec": {
   "display_name": "Python 3",
   "language": "python",
   "name": "python3"
  },
  "language_info": {
   "codemirror_mode": {
    "name": "ipython",
    "version": 3
   },
   "file_extension": ".py",
   "mimetype": "text/x-python",
   "name": "python",
   "nbconvert_exporter": "python",
   "pygments_lexer": "ipython3",
   "version": "3.8.3"
  }
 },
 "nbformat": 4,
 "nbformat_minor": 4
}
