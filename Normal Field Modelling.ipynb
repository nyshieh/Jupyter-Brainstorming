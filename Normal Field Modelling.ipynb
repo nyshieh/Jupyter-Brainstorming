{
 "cells": [
  {
   "cell_type": "markdown",
   "metadata": {},
   "source": [
    "# Normal Field Modelling from (Edwards and Nabighian 1991)"
   ]
  },
  {
   "cell_type": "markdown",
   "metadata": {},
   "source": [
    "Upward recursion FROM the $i^{th}$ layer\n",
    "\n",
    "Note:\n",
    "\n",
    "$Q_i$ is the top of the layer\n",
    "\n",
    "$Q_{i+1}$ is the bottom of the layer\n",
    "\n",
    "$$Q_i = \\frac{1}{\\rho_i \\lambda} \n",
    "\\left[\\frac\n",
    "{\\rho_i \\lambda Q_{i+1} + tanh(\\lambda d_i)}\n",
    "{\\rho_i \\lambda Q_{i+1} tanh(\\lambda d_i) + 1} \n",
    "\\right]$$\n",
    "\n",
    "$$Q = \\frac{B({\\lambda})}{\\mu E_r(\\lambda)}$$\n",
    "\n",
    "Starting value from the bottom:\n",
    "\n",
    "$$Q_N = \\frac{1}{\\rho_N\\lambda}$$"
   ]
  },
  {
   "cell_type": "markdown",
   "metadata": {},
   "source": [
    "Downward Recursion TO the $i^{th}$ layer\n",
    "\n",
    "$P_j$ is the bottom of the layer\n",
    "\n",
    "$P_{j+1}$ is the top of the layer\n",
    "\n",
    "$$P_j = \\frac{1}{\\rho_j \\lambda} \n",
    "\\left[\\frac\n",
    "{\\rho_j \\lambda Q_{j+1} + tanh(\\lambda d_j)}\n",
    "{\\rho_j \\lambda Q_{j+1} tanh(\\lambda d_j) + 1} \n",
    "\\right]$$\n",
    "\n",
    "$$P = \\left[\\frac\n",
    "{\\mu_0 I}{2\\pi\\lambda} - B(\\lambda) \\right]$$\n",
    "\n",
    "Starting value from the top:\n",
    "\n",
    "$$P_M = \\frac{1}{\\rho_m\\lambda}$$"
   ]
  },
  {
   "cell_type": "markdown",
   "metadata": {},
   "source": [
    "Recursing up and down yields\n",
    "\n",
    "SEED VALUE:\n",
    "\n",
    "$$B_1 = \\frac{\\mu_0 I}{2\\pi\\lambda} \n",
    "\\left[\\frac{Q_1}{Q_1 + P_1}\\right]$$\n",
    "\n",
    "$$B_{i+1} = B_i \\left[\\frac\n",
    "{\\rho_i\\lambda Q_{i+1} sech(\\lambda d_i)}\n",
    "{\\rho_i\\lambda Q_{i+1} + tanh(\\lambda d_i)}\n",
    "\\right]$$\n",
    "\n"
   ]
  },
  {
   "cell_type": "markdown",
   "metadata": {},
   "source": [
    "To translate to Henkel space:\n",
    "\n",
    "$$A(\\lambda, z) = \\int_{0}^{\\infty} \n",
    "rA(r, z) J_1(\\lambda r)dr$$\n",
    "\n",
    "To translate to Real space:\n",
    "\n",
    "$$A(r, z) = \\int_{0}^{\\infty} \n",
    "\\lambda A(\\lambda, z) J_1(\\lambda r)d\\lambda$$\n"
   ]
  },
  {
   "cell_type": "markdown",
   "metadata": {},
   "source": [
    "For this model, lets assume a Raglan style half space with an overlying layer of thickness 50m and $\\rho = 10^{-1}$ and an underlying layer of thickness 50m and $\\rho = 10^{1}$ which is subdivided into two sections, at which the electrode $O$ is placed in this interface\n",
    "\n",
    "z (depth) is increasing down into the earth"
   ]
  },
  {
   "cell_type": "markdown",
   "metadata": {},
   "source": [
    "$$FREE SPACE$$\n",
    "\n",
    "----------\n",
    "\n",
    "$$\\rho_1 = 10^{-1}$$\n",
    "\n",
    "$$d_1 = 50m$$\n",
    "\n",
    "----------\n",
    "\n",
    "$$\\rho_2 = 10^{1}$$\n",
    "\n",
    "$$d_2 = 25m$$\n",
    "\n",
    "$$ELECTRODE \\downarrow$$\n",
    "\n",
    "----------\n",
    "\n",
    "$$ELECTRODE \\uparrow$$\n",
    "\n",
    "$$\\rho_3 = 10^{1}$$\n",
    "\n",
    "$$d_3 = 25m$$\n",
    "\n",
    "----------\n",
    "$$FLOOR$$"
   ]
  },
  {
   "cell_type": "code",
   "execution_count": 5,
   "metadata": {},
   "outputs": [],
   "source": [
    "import numpy as np\n",
    "import scipy.special as sps\n",
    "\n",
    "# Definitions\n",
    "p1, d1 = 10**-1, 50\n",
    "p2, d2 = 10, 25\n",
    "p3, d3 = 10, 25\n",
    "\n",
    "u0 = 1.256637062e-6"
   ]
  },
  {
   "cell_type": "code",
   "execution_count": 7,
   "metadata": {},
   "outputs": [],
   "source": [
    "# Define a domain for calculating the field over\n",
    "r = np.linspace(0, 10)\n",
    "z = np.linspace(0, 100)\n",
    "rr, zz = np.meshgrid(r, z)"
   ]
  },
  {
   "cell_type": "code",
   "execution_count": 4,
   "metadata": {},
   "outputs": [
    {
     "data": {
      "text/plain": [
       "<ufunc 'jv'>"
      ]
     },
     "execution_count": 4,
     "metadata": {},
     "output_type": "execute_result"
    }
   ],
   "source": [
    "sps.jv()"
   ]
  },
  {
   "cell_type": "code",
   "execution_count": null,
   "metadata": {},
   "outputs": [],
   "source": []
  }
 ],
 "metadata": {
  "kernelspec": {
   "display_name": "Python 3",
   "language": "python",
   "name": "python3"
  },
  "language_info": {
   "codemirror_mode": {
    "name": "ipython",
    "version": 3
   },
   "file_extension": ".py",
   "mimetype": "text/x-python",
   "name": "python",
   "nbconvert_exporter": "python",
   "pygments_lexer": "ipython3",
   "version": "3.8.3"
  }
 },
 "nbformat": 4,
 "nbformat_minor": 4
}
