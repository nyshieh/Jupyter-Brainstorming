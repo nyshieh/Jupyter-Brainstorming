{
 "cells": [
  {
   "cell_type": "code",
   "execution_count": 2,
   "metadata": {},
   "outputs": [],
   "source": [
    "import plotly.graph_objects as go\n",
    "import plotly.express as px\n",
    "import numpy as np\n",
    "import random\n",
    "from scipy.spatial.transform import Rotation as R\n",
    "\n"
   ]
  },
  {
   "cell_type": "code",
   "execution_count": 3,
   "metadata": {},
   "outputs": [],
   "source": [
    "# Init unit axis vectors\n",
    "x_h, y_h, z_h = np.array([1,0,0]), np.array([0,1,0]), np.array([0,0,1])"
   ]
  },
  {
   "cell_type": "code",
   "execution_count": 4,
   "metadata": {},
   "outputs": [],
   "source": [
    "# Convenience functions init\n",
    "def get_cones(pt, vec):\n",
    "    \"\"\"\n",
    "    Return the cone with origin at pt, vector\n",
    "    \"\"\"\n",
    "    cones = go.Cone(x=[pt[0]], y=[pt[1]], z=[pt[2]], \n",
    "                    u=[vec[0]], v=[vec[1]], w=[vec[2]], \n",
    "                    sizemode='scaled',\n",
    "                    sizeref=0.1,\n",
    "                    anchor='tail',\n",
    "                   )\n",
    "    return cones\n",
    "\n",
    "def basis(pt, *args):\n",
    "    return [get_cones(pt, v) for v in args]"
   ]
  },
  {
   "cell_type": "code",
   "execution_count": 13,
   "metadata": {},
   "outputs": [
    {
     "data": {
      "text/plain": [
       "array([ 0.03831706,  0.07015587,  0.10173468, ..., 32.11492973,\n",
       "       32.14634566, 32.17776159])"
      ]
     },
     "execution_count": 13,
     "metadata": {},
     "output_type": "execute_result"
    }
   ],
   "source": [
    "class halfplane:\n",
    "    def __init__(self, strike, dip, div_line):\n",
    "        \"\"\"\n",
    "        strike: Strike of the half plane in degrees\n",
    "        dip: Dip of the half plane in  degrees\n",
    "        div_line: Vector of the line that cuts the plane in half\n",
    "        \"\"\"\n",
    "        rad_strike = np.pi * strike / 180\n",
    "        rad_dip = np.pi * dip / 180\n",
    "        self.rad_strike = rad_strike\n",
    "        self.rad_dip = rad_dip\n",
    "        self.strike = strike\n",
    "        self.dip = dip\n",
    "        self.div_line = div_line\n",
    "        self.normal = np.array([-np.sin(rad_dip) * np.sin(rad_strike), \n",
    "                                np.sin(rad_dip) * np.cos(rad_strike), \n",
    "                                -np.cos(rad_dip)])\n",
    "        self.rotation = R.from_euler('ZYX', [-strike, dip, 90], degrees=True)\n",
    "        if np.dot(self.normal, div_line) < 1e-6:\n",
    "            raise ValueError(\"div_line not in plane\")\n",
    "        \n",
    "    def in_space(self, pt):\n",
    "        \"\"\"\n",
    "        Returns bool value if pt is within the half plane defined by the class\n",
    "        \"\"\"\n",
    "        # This function below evaluates z coordinate of self.div_line at point [x, y]\n",
    "        z_func_line = lambda x, y: -np.dot(np.array([x, y]), self.div_line[:2]) / self.div_line[2]\n",
    "        if np.dot(self.normal, pt) < 1e-6 and pt[2] < z_func_line(pt[0], pt[1]):\n",
    "            return True\n",
    "        else:\n",
    "            return False\n",
    "    \n",
    "    def pai_yeoh_transform(self, dip, halfplane, electrode_pt, inverse=False):\n",
    "\n",
    "    \n",
    "    \n",
    "    pass"
   ]
  },
  {
   "cell_type": "code",
   "execution_count": null,
   "metadata": {},
   "outputs": [],
   "source": [
    "def pai_yeoh"
   ]
  },
  {
   "cell_type": "code",
   "execution_count": null,
   "metadata": {},
   "outputs": [],
   "source": []
  },
  {
   "cell_type": "code",
   "execution_count": null,
   "metadata": {},
   "outputs": [],
   "source": []
  },
  {
   "cell_type": "code",
   "execution_count": null,
   "metadata": {},
   "outputs": [],
   "source": []
  }
 ],
 "metadata": {
  "kernelspec": {
   "display_name": "Python 3",
   "language": "python",
   "name": "python3"
  },
  "language_info": {
   "codemirror_mode": {
    "name": "ipython",
    "version": 3
   },
   "file_extension": ".py",
   "mimetype": "text/x-python",
   "name": "python",
   "nbconvert_exporter": "python",
   "pygments_lexer": "ipython3",
   "version": "3.8.3"
  }
 },
 "nbformat": 4,
 "nbformat_minor": 4
}
