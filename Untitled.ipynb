{
 "cells": [
  {
   "cell_type": "code",
   "execution_count": 4,
   "metadata": {},
   "outputs": [],
   "source": [
    "import numpy as np"
   ]
  },
  {
   "cell_type": "code",
   "execution_count": 66,
   "metadata": {},
   "outputs": [],
   "source": [
    "lbda = np.random.randint(1, 100, size=47) / 100\n",
    "rho1 = 100\n",
    "rho2 = 20\n",
    "tx_current = 2\n",
    "depth = np.linspace(0, 500,num=5)\n",
    "h1 = 250\n",
    "gupFilter = np.fromfile('gup1997J147pt.csv', float, sep=',')"
   ]
  },
  {
   "cell_type": "code",
   "execution_count": 43,
   "metadata": {},
   "outputs": [
    {
     "name": "stdout",
     "output_type": "stream",
     "text": [
      "[6.01941394e-029 2.18719703e+000 5.76896687e-075 9.51518876e-008\n",
      " 4.82200416e-041 1.07224675e-107 4.98655403e-010 1.43012553e-058\n",
      " 2.36843507e-033 3.73379282e-101 1.06390715e-083 7.48606145e-062\n",
      " 3.73379282e-101 3.08242337e-043 1.77575436e-057 3.08242337e-043\n",
      " 4.98655403e-010 1.97705091e-005 8.71263290e-109 7.56543093e-039\n",
      " 8.71263290e-109 1.26923962e-047 8.17197733e-050 4.66682657e-076\n",
      " 2.36843507e-033 1.26923962e-047 1.62450851e-105 1.31973060e-106\n",
      " 2.56112371e-067 1.31973060e-106 9.51518876e-008 7.56543093e-039\n",
      " 2.56112371e-067 1.09119462e-071 1.26923962e-047 9.67806925e-027\n",
      " 2.46228194e-103 1.97560733e-045 8.17197733e-050 3.77603932e-077\n",
      " 3.92989357e-065 1.07224675e-107 3.40720895e-054 1.23029238e-025\n",
      " 8.17197733e-050 1.97705091e-005 3.17208886e-066]\n"
     ]
    }
   ],
   "source": [
    "# Test D1 calculation\n",
    "\n",
    "bot = (1-np.exp(-2*lbda*h1)) + rho2 / rho1 * (1+np.exp(-2*lbda*h1))\n",
    "D1 = tx_current * np.exp(-lbda * h1) / 2 / np.pi / lbda / bot\n",
    "print(D1)\n",
    "U1 = -D1"
   ]
  },
  {
   "cell_type": "code",
   "execution_count": 44,
   "metadata": {},
   "outputs": [
    {
     "name": "stdout",
     "output_type": "stream",
     "text": [
      "[0.2040448  5.36501012 0.07801713 0.75788068 0.14338283 0.05413433\n",
      " 0.58946275 0.10009745 0.17683883 0.05766483 0.0698048  0.09473509\n",
      " 0.05766483 0.13602987 0.1020224  0.13602987 0.58946275 1.06103295\n",
      " 0.05358752 0.15157614 0.05358752 0.12337592 0.11789255 0.07688645\n",
      " 0.17683883 0.12337592 0.05526213 0.05469242 0.08696991 0.05469242\n",
      " 0.75788068 0.15157614 0.08696991 0.08161792 0.12337592 0.22104853\n",
      " 0.05643792 0.12939426 0.11789255 0.07578807 0.08991805 0.05413433\n",
      " 0.10826867 0.23065934 0.11789255 1.06103295 0.08841941]\n"
     ]
    }
   ],
   "source": [
    "# Test D2 Calculation\n",
    "\n",
    "# Equation 18 from Chen and Oldenburg (2004)\n",
    "\n",
    "top = (1 + np.exp(-2 * lbda * h1))\n",
    "bot = (1 - np.exp(-2 * lbda * h1)) + rho2 / rho1 * (1 + np.exp(-2*lbda*h1))\n",
    "D2 = tx_current * top * rho2 / rho1 / 2 / np.pi / lbda / bot\n",
    "print(D2)\n",
    "U2 = np.repeat(0, 47)"
   ]
  },
  {
   "cell_type": "code",
   "execution_count": 53,
   "metadata": {},
   "outputs": [
    {
     "data": {
      "text/plain": [
       "(5, 47)"
      ]
     },
     "execution_count": 53,
     "metadata": {},
     "output_type": "execute_result"
    }
   ],
   "source": [
    "(D1 * np.exp(lbda * depth[:,np.newaxis])).shape"
   ]
  },
  {
   "cell_type": "code",
   "execution_count": 55,
   "metadata": {},
   "outputs": [
    {
     "data": {
      "text/plain": [
       "(5, 47)"
      ]
     },
     "execution_count": 55,
     "metadata": {},
     "output_type": "execute_result"
    }
   ],
   "source": [
    ".shape"
   ]
  },
  {
   "cell_type": "code",
   "execution_count": 69,
   "metadata": {},
   "outputs": [
    {
     "name": "stderr",
     "output_type": "stream",
     "text": [
      "<ipython-input-69-e4cd62c4b690>:1: RuntimeWarning: divide by zero encountered in true_divide\n",
      "  np.multiply(D1 * np.exp(lbda * depth[:,np.newaxis]), gupFilter).sum(1)/depth\n"
     ]
    },
    {
     "data": {
      "text/plain": [
       "array([           -inf, 1.27542806e+036, 8.88003494e+081, 8.24350902e+127,\n",
       "       8.60918585e+173])"
      ]
     },
     "execution_count": 69,
     "metadata": {},
     "output_type": "execute_result"
    }
   ],
   "source": [
    "np.multiply(D1 * np.exp(lbda * depth[:,np.newaxis]), gupFilter).sum(1)/depth"
   ]
  },
  {
   "cell_type": "code",
   "execution_count": null,
   "metadata": {},
   "outputs": [],
   "source": []
  }
 ],
 "metadata": {
  "kernelspec": {
   "display_name": "Python 3",
   "language": "python",
   "name": "python3"
  },
  "language_info": {
   "codemirror_mode": {
    "name": "ipython",
    "version": 3
   },
   "file_extension": ".py",
   "mimetype": "text/x-python",
   "name": "python",
   "nbconvert_exporter": "python",
   "pygments_lexer": "ipython3",
   "version": "3.8.3"
  }
 },
 "nbformat": 4,
 "nbformat_minor": 4
}
