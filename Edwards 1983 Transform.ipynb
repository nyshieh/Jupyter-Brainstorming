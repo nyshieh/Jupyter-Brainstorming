{
 "cells": [
  {
   "cell_type": "code",
   "execution_count": 1,
   "metadata": {},
   "outputs": [],
   "source": [
    "import plotly.graph_objects as go\n",
    "import plotly.express as px\n",
    "import numpy as np\n",
    "import random\n",
    "from scipy.spatial.transform import Rotation as R\n",
    "from scipy.integrate import simps"
   ]
  },
  {
   "cell_type": "code",
   "execution_count": 2,
   "metadata": {},
   "outputs": [],
   "source": [
    "class halfplane:\n",
    "    def __init__(self, strike, dip, plane_point):\n",
    "        \"\"\"\n",
    "        strike: Strike of the half plane in degrees\n",
    "        dip: Dip of the half plane in  degrees\n",
    "        plane_point: Point on the plane that will be used to calculate the offset\n",
    "                     self.d\n",
    "        In this implementation, the current enters the plate at the edge, and \n",
    "        is located at the origin\n",
    "        \"\"\"\n",
    "        \n",
    "        rad_strike = np.pi * strike / 180\n",
    "        rad_dip = np.pi * dip / 180\n",
    "        self.rad_strike = rad_strike\n",
    "        self.rad_dip = rad_dip\n",
    "        self.strike = strike\n",
    "        self.dip = dip\n",
    "        self.normal = self.fnormal(strike, dip)\n",
    "        \n",
    "        # Get plane offset\n",
    "        # Form: ax + by + cz = d\n",
    "        self.d = np.dot(self.normal, plane_point)\n",
    "        \n",
    "        # Init unit axis vectors\n",
    "        self.x_h, self.y_h, self.z_h = np.array([1,0,0]), \\\n",
    "                                       np.array([0,1,0]), \\\n",
    "                                       np.array([0,0,1])\n",
    "\n",
    "        # Defines the rotation to the frame of reference used for all the math\n",
    "        # Note that this frame of reference is different from the one in Pai and\n",
    "        # Yeoh 1993\n",
    "        # 1.) Rotate y axis about z to the plunge vector projected onto x-y\n",
    "        # 2.) Rotate y' axis about x' axis to the plunge vector\n",
    "        # 3.) Rotate about y'' such that the Z vector lies on the plane\n",
    "        \n",
    "        #self.rotation = R.from_euler()\n",
    "        \n",
    "    def in_space(self, pt):\n",
    "        \"\"\"\n",
    "        Returns bool value if pt is within the half plane defined by the class\n",
    "        \"\"\"\n",
    "        # This function below evaluates z coordinate of self.div_line at point [x, y]\n",
    "        z_func_line = lambda x, y: -np.dot(np.array([x, y]), self.div_line[:2]) / self.div_line[2]\n",
    "        if np.dot(self.normal, pt) < 1e-6 and pt[2] < z_func_line(pt[0], pt[1]):\n",
    "            return True\n",
    "        else:\n",
    "            return False\n",
    "    \n",
    "    def fnormal(self, strike, dip):\n",
    "        \"\"\"\n",
    "        Returns the normal vector given strike and dip\n",
    "        \"\"\"\n",
    "        deg_to_rad = lambda x: x * np.pi / 180\n",
    "        r_strike = deg_to_rad(strike)\n",
    "        r_dip = deg_to_rad(dip)\n",
    "        n = np.array([\n",
    "            np.sin(r_dip) * np.cos(r_strike),\n",
    "            -np.sin(r_dip) * np.sin(r_strike),\n",
    "            -np.cos(r_dip)\n",
    "        ])\n",
    "        return n\n",
    "    \n",
    "    "
   ]
  },
  {
   "cell_type": "code",
   "execution_count": 3,
   "metadata": {},
   "outputs": [
    {
     "ename": "TypeError",
     "evalue": "from_euler() missing 2 required positional arguments: 'seq' and 'angles'",
     "output_type": "error",
     "traceback": [
      "\u001b[1;31m---------------------------------------------------------------------------\u001b[0m",
      "\u001b[1;31mTypeError\u001b[0m                                 Traceback (most recent call last)",
      "\u001b[1;32m<ipython-input-3-579e6e05a842>\u001b[0m in \u001b[0;36m<module>\u001b[1;34m\u001b[0m\n\u001b[1;32m----> 1\u001b[1;33m \u001b[0mhalfplane\u001b[0m\u001b[1;33m(\u001b[0m\u001b[1;36m45\u001b[0m\u001b[1;33m,\u001b[0m \u001b[0mdip\u001b[0m\u001b[1;33m=\u001b[0m\u001b[1;36m50\u001b[0m\u001b[1;33m,\u001b[0m \u001b[0mplane_point\u001b[0m\u001b[1;33m=\u001b[0m\u001b[0mnp\u001b[0m\u001b[1;33m.\u001b[0m\u001b[0marray\u001b[0m\u001b[1;33m(\u001b[0m\u001b[1;33m[\u001b[0m\u001b[1;36m5\u001b[0m\u001b[1;33m,\u001b[0m\u001b[1;36m5\u001b[0m\u001b[1;33m,\u001b[0m\u001b[1;36m5\u001b[0m\u001b[1;33m]\u001b[0m\u001b[1;33m)\u001b[0m\u001b[1;33m)\u001b[0m\u001b[1;33m\u001b[0m\u001b[1;33m\u001b[0m\u001b[0m\n\u001b[0m",
      "\u001b[1;32m<ipython-input-2-1284fc998fbf>\u001b[0m in \u001b[0;36m__init__\u001b[1;34m(self, strike, dip, plane_point)\u001b[0m\n\u001b[0;32m     33\u001b[0m         \u001b[1;31m# 2.) Rotate y' axis about x' axis to the plunge vector\u001b[0m\u001b[1;33m\u001b[0m\u001b[1;33m\u001b[0m\u001b[1;33m\u001b[0m\u001b[0m\n\u001b[0;32m     34\u001b[0m         \u001b[1;31m# 3.) Rotate about y'' such that the Z vector lies on the plane\u001b[0m\u001b[1;33m\u001b[0m\u001b[1;33m\u001b[0m\u001b[1;33m\u001b[0m\u001b[0m\n\u001b[1;32m---> 35\u001b[1;33m         \u001b[0mself\u001b[0m\u001b[1;33m.\u001b[0m\u001b[0mrotation\u001b[0m \u001b[1;33m=\u001b[0m \u001b[0mR\u001b[0m\u001b[1;33m.\u001b[0m\u001b[0mfrom_euler\u001b[0m\u001b[1;33m(\u001b[0m\u001b[1;33m)\u001b[0m\u001b[1;33m\u001b[0m\u001b[1;33m\u001b[0m\u001b[0m\n\u001b[0m\u001b[0;32m     36\u001b[0m \u001b[1;33m\u001b[0m\u001b[0m\n\u001b[0;32m     37\u001b[0m \u001b[1;33m\u001b[0m\u001b[0m\n",
      "\u001b[1;31mTypeError\u001b[0m: from_euler() missing 2 required positional arguments: 'seq' and 'angles'"
     ]
    }
   ],
   "source": [
    "halfplane(45, dip=50, plane_point=np.array([5,5,5]))"
   ]
  },
  {
   "cell_type": "code",
   "execution_count": 6,
   "metadata": {},
   "outputs": [],
   "source": [
    "x_h, y_h, z_h = np.array([1,0,0]), \\\n",
    "                np.array([0,1,0]), \\\n",
    "                np.array([0,0,1])"
   ]
  },
  {
   "cell_type": "code",
   "execution_count": 7,
   "metadata": {},
   "outputs": [],
   "source": [
    "BH_DIP = 54\n",
    "BH_AZIMUTH = 18"
   ]
  },
  {
   "cell_type": "code",
   "execution_count": 8,
   "metadata": {},
   "outputs": [
    {
     "ename": "NameError",
     "evalue": "name 'line_output' is not defined",
     "output_type": "error",
     "traceback": [
      "\u001b[1;31m---------------------------------------------------------------------------\u001b[0m",
      "\u001b[1;31mNameError\u001b[0m                                 Traceback (most recent call last)",
      "\u001b[1;32m<ipython-input-8-88fab54351e7>\u001b[0m in \u001b[0;36m<module>\u001b[1;34m\u001b[0m\n\u001b[0;32m     17\u001b[0m \u001b[1;31m# Try a line from [0,0,0] with length 1 and turn it into an object for plotting\u001b[0m\u001b[1;33m\u001b[0m\u001b[1;33m\u001b[0m\u001b[1;33m\u001b[0m\u001b[0m\n\u001b[0;32m     18\u001b[0m \u001b[0mbh_start\u001b[0m \u001b[1;33m=\u001b[0m \u001b[1;33m[\u001b[0m\u001b[1;36m0\u001b[0m\u001b[1;33m,\u001b[0m\u001b[1;36m0\u001b[0m\u001b[1;33m,\u001b[0m\u001b[1;36m0\u001b[0m\u001b[1;33m]\u001b[0m\u001b[1;33m\u001b[0m\u001b[1;33m\u001b[0m\u001b[0m\n\u001b[1;32m---> 19\u001b[1;33m \u001b[0mbh_end\u001b[0m \u001b[1;33m=\u001b[0m \u001b[0mline_output\u001b[0m\u001b[1;33m(\u001b[0m\u001b[0mbh_start\u001b[0m\u001b[1;33m,\u001b[0m \u001b[1;36m1\u001b[0m\u001b[1;33m,\u001b[0m \u001b[0mBH_AZIMUTH\u001b[0m\u001b[1;33m,\u001b[0m \u001b[0mBH_DIP\u001b[0m\u001b[1;33m)\u001b[0m\u001b[1;33m\u001b[0m\u001b[1;33m\u001b[0m\u001b[0m\n\u001b[0m\u001b[0;32m     20\u001b[0m bh = [go.Scatter3d(x=[bh_start[0], bh_end[0]],\n\u001b[0;32m     21\u001b[0m                   \u001b[0my\u001b[0m\u001b[1;33m=\u001b[0m\u001b[1;33m[\u001b[0m\u001b[0mbh_start\u001b[0m\u001b[1;33m[\u001b[0m\u001b[1;36m1\u001b[0m\u001b[1;33m]\u001b[0m\u001b[1;33m,\u001b[0m \u001b[0mbh_end\u001b[0m\u001b[1;33m[\u001b[0m\u001b[1;36m1\u001b[0m\u001b[1;33m]\u001b[0m\u001b[1;33m]\u001b[0m\u001b[1;33m,\u001b[0m\u001b[1;33m\u001b[0m\u001b[1;33m\u001b[0m\u001b[0m\n",
      "\u001b[1;31mNameError\u001b[0m: name 'line_output' is not defined"
     ]
    }
   ],
   "source": [
    "# Convenience function init\n",
    "def get_cones(pt, vec):\n",
    "    \"\"\"\n",
    "    Return the cone with origin at pt, vector\n",
    "    \"\"\"\n",
    "    cones = go.Cone(x=[pt[0]], y=[pt[1]], z=[pt[2]], \n",
    "                    u=[vec[0]], v=[vec[1]], w=[vec[2]], \n",
    "                    sizemode='scaled',\n",
    "                    sizeref=0.1,\n",
    "                    anchor='tail',\n",
    "                   )\n",
    "    return cones\n",
    "\n",
    "def basis(pt, *args):\n",
    "    return [get_cones(pt, v) for v in args]\n",
    "\n",
    "def line_output(start, length, deg_azimuth, deg_dip):\n",
    "    \"\"\"\n",
    "    Calculate the endpoint of a line from start and endpoint specified by \n",
    "    length, deg_azimuth, and deg_dip\n",
    "    \"\"\"\n",
    "    start = np.array(start)\n",
    "    azi = deg_azimuth * np.pi / 180\n",
    "    phi = (deg_dip + 90) * np.pi / 180\n",
    "    # Translate out of spherical coordinates\n",
    "    x,y,z = np.sin(azi), np.cos(azi), np.cos(phi)\n",
    "    dir_hat = np.array([x, y, z]) / np.linalg.norm(np.array([x, y, z]))\n",
    "    direction = length * dir_hat\n",
    "    endpoint = start + direction\n",
    "    return endpoint\n",
    "\n",
    "# Try a line from [0,0,0] with length 1 and turn it into an object for plotting\n",
    "bh_start = [0,0,0]\n",
    "bh_end = line_output(bh_start, 1, BH_AZIMUTH, BH_DIP)\n",
    "bh = [go.Scatter3d(x=[bh_start[0], bh_end[0]],\n",
    "                  y=[bh_start[1], bh_end[1]],\n",
    "                  z=[bh_start[2], bh_end[2]],\n",
    "                  name='BH',\n",
    "                  mode='lines+markers')]\n"
   ]
  },
  {
   "cell_type": "code",
   "execution_count": null,
   "metadata": {},
   "outputs": [],
   "source": []
  }
 ],
 "metadata": {
  "kernelspec": {
   "display_name": "Python 3",
   "language": "python",
   "name": "python3"
  },
  "language_info": {
   "codemirror_mode": {
    "name": "ipython",
    "version": 3
   },
   "file_extension": ".py",
   "mimetype": "text/x-python",
   "name": "python",
   "nbconvert_exporter": "python",
   "pygments_lexer": "ipython3",
   "version": "3.8.3"
  }
 },
 "nbformat": 4,
 "nbformat_minor": 4
}
