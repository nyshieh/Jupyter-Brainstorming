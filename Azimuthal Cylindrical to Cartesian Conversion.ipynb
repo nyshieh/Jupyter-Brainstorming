{
 "cells": [
  {
   "cell_type": "markdown",
   "metadata": {},
   "source": [
    "Our aim is to convert the scalar value located at $(r, \\theta, z)$ to a vector quantity $(x,y,z)$"
   ]
  },
  {
   "cell_type": "code",
   "execution_count": 1,
   "metadata": {},
   "outputs": [],
   "source": [
    "import numpy as np"
   ]
  },
  {
   "cell_type": "code",
   "execution_count": 1,
   "metadata": {},
   "outputs": [],
   "source": [
    "def cart_to_cyl(x, y, z):\n",
    "    \"\"\"\n",
    "    Even though theta is not used in the calculation of the normal field \n",
    "    since the field is radially symmetric, we have to save \n",
    "    theta for the conversion back to cartesian.\n",
    "    \"\"\"\n",
    "    return (np.linalg.norm([x, y]), np.tan(y, x), z)\n",
    "\n",
    "def cyl_to_cart(r, theta, z):\n",
    "    return (r * np.cos(theta), r * np.sin(theta), z)"
   ]
  },
  {
   "cell_type": "markdown",
   "metadata": {},
   "source": [
    "1.) Convert requested point to cylindrical measured from the electrode point\n",
    "\n",
    "2.) Save theta for conversion back to Cartesian even though normal field is radially symmetric and doesn't care about $\\theta$\n",
    "\n",
    "3.) Calculate at $(r, \\theta, z)$ [This radial vector is pointing in the direction given by r CROSS -z]"
   ]
  },
  {
   "cell_type": "code",
   "execution_count": 1,
   "metadata": {},
   "outputs": [],
   "source": [
    "def normal_field(x, y, z, src_coord):\n",
    "    \n",
    "    # Normalize observation global coordinates to the source electrode position\n",
    "    rel_x = x - src_coord[0]\n",
    "    rel_y = y - src_coord[1]\n",
    "    rel_z = z - src_coord[2]\n",
    "    \n",
    "    # Convert local cartesian coordinates into local cylindrical, centered at the source electrode position\n",
    "    rel_cyl = cart_to_cyl(rel_x, rel_y, rel_z)\n",
    "    \n",
    "    # These arguments can be consolidated into \n",
    "    # rel_cyl = (rel_cyl[0], rel_cyl[1], -rel_cyl[2]) in the future if needed\n",
    "    \n",
    "    rel_r = rel_cyl[0]\n",
    "    theta = rel_cyl[1]\n",
    "    rel_z = -rel_cyl[2]  # Our math needs z to point downwards\n",
    "    \n",
    "    func_norm_field = lambda r, z: 5  # Dummy function of (relative_r, relative_z) \n",
    "                                      # that will calculate our normal field, as given in \n",
    "                                      # Chen and Oldenburg 2004\n",
    "            \n",
    "    normal_field = func_norm_field(rel_r, rel_z)\n",
    "    \n",
    "    # normal_field will return a scalar value representing the tangential magnitude at radius R from\n",
    "    # the source electrode\n",
    "    tangent = np.cross([rel_x, rel_y, 0], [0,0,1])\n",
    "    \n",
    "    tangent /= np.linalg.norm(tangent)         # Normalize the tangential cartesian to a unit vector\n",
    "    radial_rel_cart = tangent * normal_field   # Scale the relative cartesian comps by the radial magnitude\n",
    "    radial_global_cart = radial_rel_cart + src_coord  #  Offset the relative coordinate system back to global\n",
    "    return radial_global_cart"
   ]
  },
  {
   "cell_type": "markdown",
   "metadata": {},
   "source": [
    "# Testing"
   ]
  },
  {
   "cell_type": "code",
   "execution_count": null,
   "metadata": {},
   "outputs": [],
   "source": []
  }
 ],
 "metadata": {
  "kernelspec": {
   "display_name": "Python 3",
   "language": "python",
   "name": "python3"
  },
  "language_info": {
   "codemirror_mode": {
    "name": "ipython",
    "version": 3
   },
   "file_extension": ".py",
   "mimetype": "text/x-python",
   "name": "python",
   "nbconvert_exporter": "python",
   "pygments_lexer": "ipython3",
   "version": "3.8.3"
  }
 },
 "nbformat": 4,
 "nbformat_minor": 4
}
