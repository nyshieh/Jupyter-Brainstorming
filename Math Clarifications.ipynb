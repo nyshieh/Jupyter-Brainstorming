{
 "cells": [
  {
   "cell_type": "markdown",
   "metadata": {},
   "source": [
    "## In reference to Electromagnetic Methods in Applied Geophysics Volume 2, Application by Misac N. Nabighian - see PDF"
   ]
  },
  {
   "cell_type": "markdown",
   "metadata": {},
   "source": [
    "To translate to Henkel Space from Equation (7) in Chapter 7 (pg53):\n",
    "\n",
    "$$A(\\lambda; z) = \\int_{0}^{\\infty} \n",
    "A(r; z) J_1(\\lambda r) r dr$$\n",
    "\n",
    "In one dimension from the definition of the Hankel Transform:\n",
    "$${\\displaystyle A_{1}(\\lambda)=\\int _{0}^{\\infty }A(r)J_{1}(\\lambda r)\\,r\\,\\mathrm {d} r,}$$\n"
   ]
  },
  {
   "cell_type": "markdown",
   "metadata": {},
   "source": [
    "Notation Question - is "
   ]
  }
 ],
 "metadata": {
  "kernelspec": {
   "display_name": "Python 3",
   "language": "python",
   "name": "python3"
  },
  "language_info": {
   "codemirror_mode": {
    "name": "ipython",
    "version": 3
   },
   "file_extension": ".py",
   "mimetype": "text/x-python",
   "name": "python",
   "nbconvert_exporter": "python",
   "pygments_lexer": "ipython3",
   "version": "3.8.3"
  }
 },
 "nbformat": 4,
 "nbformat_minor": 4
}
