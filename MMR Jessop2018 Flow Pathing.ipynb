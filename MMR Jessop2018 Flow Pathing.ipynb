{
 "cells": [
  {
   "cell_type": "code",
   "execution_count": 1,
   "metadata": {},
   "outputs": [],
   "source": [
    "import numpy as np\n",
    "import matplotlib.pyplot as plt"
   ]
  },
  {
   "cell_type": "markdown",
   "metadata": {},
   "source": [
    "From Jessop 2018 Equation 17\n",
    "\n",
    "$$A(r) = \\frac{\\mu}{4\\pi} \\int_{\\Omega} \\frac{J_c (r')}{|r-r'|} \\,d\\tau '$$\n",
    "\n",
    "\n"
   ]
  },
  {
   "cell_type": "markdown",
   "metadata": {},
   "source": [
    "A is the magnetic vector potential at r\n",
    "\n",
    "r is the position of the observation point P,\n",
    "\n",
    "r' is the position of the integration point around the current source point M\n",
    "\n",
    "$d\\tau '$ denotes a volume element around the source M\n",
    "\n",
    "$Curl(A)$ results in the Biot Savart Law being returned"
   ]
  },
  {
   "cell_type": "markdown",
   "metadata": {},
   "source": [
    "Normal magnetic field:\n",
    "\n",
    "$$ B_o (r) = \\frac{\\mu}{4\\pi} \\int J_s (r') \\times \\frac{r- r'}{|r-r'|^3}\\,d\\tau '$$"
   ]
  },
  {
   "cell_type": "markdown",
   "metadata": {},
   "source": [
    "$J_s$ is the source current density inside the source region - NEED CLARIFICATION, \n",
    "\n",
    "Is this the vector from the EField?\n",
    "\n",
    "See: Willowstick method\n",
    "\n",
    "$J_s$ is defined as $\\frac{A}{m^2}$\n",
    "\n",
    "\"The normal magnetic field at observation point r is given by the volume integral over the area around the source charge\""
   ]
  },
  {
   "cell_type": "markdown",
   "metadata": {},
   "source": [
    "# Edwards 1974\n",
    "\n",
    "Any component of the normal field due to a pair of electrodes can be obtaineed by the superposition of two solutions of the type,\n",
    "\n",
    "$$H_t = \\frac{I}{4 \\pi r}$$\n",
    "\n"
   ]
  },
  {
   "cell_type": "code",
   "execution_count": 14,
   "metadata": {},
   "outputs": [],
   "source": [
    "x = np.linspace(-10,10)\n",
    "y = np.linspace(-10,10)\n",
    "z = np.linspace(-10,10)\n",
    "xx, yy = np.meshgrid(x,y)"
   ]
  },
  {
   "cell_type": "code",
   "execution_count": 15,
   "metadata": {},
   "outputs": [],
   "source": [
    "def NField_x(x,y,L,I):\n",
    "    \"\"\"\n",
    "    Gives the cross component of the normal field between two electrodes\n",
    "    located at (0, L/2; z1) and at (0, -L/2; z2) where z1 and z2 are arbitrary \n",
    "    depths\n",
    "    Implemented from equation 4.5 in Edwards 1974\n",
    "    \"\"\"\n",
    "    a = (y/L + 0.5) / (np.power(x/L, 2) + (np.power(y/L + 0.5, 2))) \n",
    "    b = (y/L - 0.5) / (np.power(x/L, 2) + (np.power(y/L - 0.5, 2)))\n",
    "    return I * (a - b) / 4 / np.pi / L"
   ]
  },
  {
   "cell_type": "code",
   "execution_count": 17,
   "metadata": {},
   "outputs": [
    {
     "name": "stdout",
     "output_type": "stream",
     "text": [
      "\n"
     ]
    },
    {
     "data": {
      "image/png": "[encoded data removed]",
      "text/plain": [
       "<Figure size 432x288 with 1 Axes>"
      ]
     },
     "metadata": {
      "needs_background": "light"
     },
     "output_type": "display_data"
    }
   ],
   "source": [
    "def NField_x_single(x,y)\n",
    "plt.contourf(xx, \n",
    "             yy, \n",
    "             NField_x(xx,yy,10,1))\n",
    "print()\n"
   ]
  },
  {
   "cell_type": "code",
   "execution_count": null,
   "metadata": {},
   "outputs": [],
   "source": []
  },
  {
   "cell_type": "code",
   "execution_count": null,
   "metadata": {},
   "outputs": [],
   "source": []
  }
 ],
 "metadata": {
  "kernelspec": {
   "display_name": "Python 3",
   "language": "python",
   "name": "python3"
  },
  "language_info": {
   "codemirror_mode": {
    "name": "ipython",
    "version": 3
   },
   "file_extension": ".py",
   "mimetype": "text/x-python",
   "name": "python",
   "nbconvert_exporter": "python",
   "pygments_lexer": "ipython3",
   "version": "3.8.3"
  }
 },
 "nbformat": 4,
 "nbformat_minor": 4
}
