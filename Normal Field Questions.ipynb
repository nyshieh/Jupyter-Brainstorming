{
 "cells": [
  {
   "cell_type": "markdown",
   "metadata": {},
   "source": [
    "Questions from Page 52 (62 in PDF):\n",
    "\n",
    "<b>Consider Figure 5 as a basis for my questions.</b>\n",
    "\n",
    "Regarding equation (7) - \n",
    "\n",
    "$$A(\\lambda, z) = \\int_{0}^{\\infty} \n",
    "A(r, z) J_1(\\lambda r)rdr$$\n",
    "\n",
    "Notation: Is this function written as A a function of two variables $(\\lambda, z)$ or does the semicolon have special notation in this case? \n",
    "\n",
    "Modelling: Say you have a set of discrete points $(r, z)$ instead of a continuous function $A(r, z)$, how would you transform this discrete set in real space into a discrete set in Hankel space $(\\lambda, z)$?"
   ]
  },
  {
   "cell_type": "markdown",
   "metadata": {},
   "source": [
    "For this model, lets assume a Raglan style half space with an overlying layer of thickness 50m and $\\rho = 10^{-1}$ and an underlying layer of thickness 50m and $\\rho = 10^{1}$ which is subdivided into two sections, at which the electrode $O$ is placed in this interface\n",
    "\n",
    "z (depth) is increasing down into the earth"
   ]
  },
  {
   "cell_type": "markdown",
   "metadata": {},
   "source": [
    "$$FREE SPACE$$\n",
    "\n",
    "----------\n",
    "\n",
    "$$\\rho_1 = 10^{-1}$$\n",
    "\n",
    "$$d_1 = 50m$$\n",
    "\n",
    "----------\n",
    "\n",
    "$$\\rho_2 = 10^{1}$$\n",
    "\n",
    "$$d_2 = 25m$$\n",
    "\n",
    "$$ELECTRODE \\downarrow$$\n",
    "\n",
    "----------\n",
    "\n",
    "$$ELECTRODE \\uparrow$$\n",
    "\n",
    "$$\\rho_3 = 10^{1}$$\n",
    "\n",
    "$$d_3 = 25m$$\n",
    "\n",
    "----------\n",
    "$$FLOOR$$"
   ]
  },
  {
   "cell_type": "code",
   "execution_count": null,
   "metadata": {},
   "outputs": [],
   "source": []
  }
 ],
 "metadata": {
  "kernelspec": {
   "display_name": "Python 3",
   "language": "python",
   "name": "python3"
  },
  "language_info": {
   "codemirror_mode": {
    "name": "ipython",
    "version": 3
   },
   "file_extension": ".py",
   "mimetype": "text/x-python",
   "name": "python",
   "nbconvert_exporter": "python",
   "pygments_lexer": "ipython3",
   "version": "3.8.3"
  }
 },
 "nbformat": 4,
 "nbformat_minor": 4
}
