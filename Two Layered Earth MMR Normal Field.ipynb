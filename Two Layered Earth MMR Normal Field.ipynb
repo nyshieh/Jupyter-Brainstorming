{
 "cells": [
  {
   "cell_type": "code",
   "execution_count": 1,
   "metadata": {},
   "outputs": [],
   "source": [
    "import plotly.graph_objects as go\n",
    "import plotly.express as px\n",
    "from plotly.subplots import make_subplots\n",
    "import matplotlib.pyplot as plt\n",
    "import numpy as np\n",
    "from pyhank import HankelTransform as pyhankHT"
   ]
  },
  {
   "cell_type": "code",
   "execution_count": 2,
   "metadata": {},
   "outputs": [],
   "source": [
    "# We need to import spline interpolation for the inverse transformation to get smoothness\n",
    "from scipy.interpolate import InterpolatedUnivariateSpline as spline"
   ]
  },
  {
   "cell_type": "markdown",
   "metadata": {},
   "source": [
    "## Chen and Oldenburg 2004 implementation of the 2 layer system"
   ]
  },
  {
   "cell_type": "code",
   "execution_count": 3,
   "metadata": {},
   "outputs": [],
   "source": [
    "# Electrode is placed at the interface between rho1 and rho2\n",
    "class halfspace_2_layer:\n",
    "    def __init__(self, rho1, rho2, h_overburden, tx_current):\n",
    "        \"\"\"\n",
    "        Returns the field magnitude of a buried electrode located at the interface between media\n",
    "        rho1 and rho2, thickness of rho1 being defined with h_overburden\n",
    "        @return: B_field magnitude\n",
    "        \"\"\"\n",
    "        \n",
    "        self.rho1 = rho1\n",
    "        self.rho2 = rho2\n",
    "        self.h_overburden = h_overburden\n",
    "        \n",
    "        self.tx_current = tx_current\n",
    "        \n",
    "    \n",
    "    def normal_B_Field(self, r, depth):\n",
    "        transformer = pyhankHT(order=1, radial_grid=r)\n",
    "        lbda = transformer.kr\n",
    "        HankField = np.append(self.lower_layer_bfield(lbda, \n",
    "                                depth[depth <= self.h_overburden]),\n",
    "                           self.upper_layer_bfield(lbda, \n",
    "                                depth[depth > self.h_overburden]), \n",
    "                           axis=0)\n",
    "        BField = transformer.iqdht(HankField)\n",
    "        return BField\n",
    "    \n",
    "    def upper_layer_bfield(self, lbda, depth):\n",
    "        # lbda: float\n",
    "        # depth: float\n",
    "        # returns: ndarray of shape(47, len(depth))\n",
    "        # Equation 15 from Chen and Oldenburg (2004)\n",
    "        D1 = self._D_1(lbda)\n",
    "        U1 = self._U_1(lbda)\n",
    "        \n",
    "        ## Shape of (n_points, 47)\n",
    "        term1 = self.tx_current / 2 / np.pi / lbda\n",
    "        term2 = D1 * np.exp(-lbda * depth) \n",
    "        term3 = U1 * np.exp(lbda * depth)\n",
    "        return term1 + term2 + term3\n",
    "    \n",
    "    def lower_layer_bfield(self, lbda, depth):\n",
    "        # lbda: ndarray\n",
    "        # depth: ndarray\n",
    "        # Equation 16 from Chen and Oldenburg (2004)\n",
    "        D2 = self._D_2(lbda)\n",
    "        U2 = self._U_2(lbda)\n",
    "        print(lbda)\n",
    "        term1 = D2 * np.exp(-lbda * depth[:,np.newaxis])\n",
    "        term2 = U2 * np.exp(lbda * depth[:,np.newaxis])\n",
    "        return term1 + term2\n",
    "    \n",
    "    ### LAYER COEFFICIENTS ###\n",
    "    def _D_1(self, lbda):\n",
    "        # lbda: ndarray of len(gupFilter)\n",
    "        # Equation 17 from Chen and Oldenburg (2004)\n",
    "        h1 = self.h_overburden\n",
    "        \n",
    "        bot = (1-np.exp(-2*lbda*h1)) + self.rho2 / self.rho1 * (1+np.exp(-2*lbda*h1))\n",
    "        return self.tx_current * np.exp(-lbda * h1) / 2 / np.pi / lbda / bot\n",
    "    \n",
    "    def _U_1(self, lbda):\n",
    "        # lbda: ndarray\n",
    "        return -self._D_1(lbda)\n",
    "    \n",
    "    def _D_2(self, lbda):\n",
    "        # lbda: ndndarray of len(gupFilter)array\n",
    "        # Equation 18 from Chen and Oldenburg (2004)\n",
    "        h1 = self.h_overburden\n",
    "        \n",
    "        top = (1 + np.exp(-2 * lbda * h1))\n",
    "        bot = (1 - np.exp(-2 * lbda * h1)) + self.rho2 / self.rho1 * (1 + np.exp(-2*lbda*h1))\n",
    "        return self.tx_current * top * self.rho2 / self.rho1 / 2 / np.pi / lbda / bot\n",
    "    \n",
    "    def _U_2(self, lbda):\n",
    "        return 0\n"
   ]
  },
  {
   "cell_type": "code",
   "execution_count": 4,
   "metadata": {},
   "outputs": [
    {
     "name": "stdout",
     "output_type": "stream",
     "text": [
      "n=47 Filter loaded\n",
      "[ 3.17926147e-06 -9.73811661e-06  1.64866227e-05 -1.81501261e-05\n",
      "  1.87556556e-05 -1.14655041e-06  1.53799734e-05 -6.95628274e-06\n",
      "  1.41881556e-05  3.41445666e-06  2.13941716e-05  2.34962369e-05\n",
      "  4.84340283e-05  7.33732979e-05  1.27703784e-04  2.08120026e-04\n",
      "  3.49803899e-04  5.79107815e-04  9.65887918e-04  1.60401274e-03\n",
      "  2.66903778e-03  4.43111590e-03  7.35631696e-03  1.21782796e-02\n",
      "  2.01097829e-02  3.30096953e-02  5.37143592e-02  8.60516613e-02\n",
      "  1.34267607e-01  2.00125033e-01  2.74027506e-01  3.18168749e-01\n",
      "  2.41655667e-01 -5.40549162e-02 -4.46912952e-01 -1.92231886e-01\n",
      "  5.52376754e-01 -3.57429049e-01  1.41510519e-01 -4.61421935e-02\n",
      "  1.48273762e-02 -5.07479209e-03  1.83829714e-03 -6.67742804e-04\n",
      "  2.21277518e-04 -5.66248733e-05  7.88229203e-06]\n"
     ]
    }
   ],
   "source": [
    "# Initialize a\n",
    "earth = halfspace_2_layer(\n",
    "                  rho1=100,\n",
    "                  rho2=50,\n",
    "                  h_overburden=50,\n",
    "                  tx_current=1)"
   ]
  },
  {
   "cell_type": "code",
   "execution_count": 5,
   "metadata": {},
   "outputs": [
    {
     "name": "stdout",
     "output_type": "stream",
     "text": [
      "[3.83170597]\n"
     ]
    },
    {
     "ename": "ValueError",
     "evalue": "matmul: Input operand 1 has a mismatch in its core dimension 0, with gufunc signature (n?,k),(k,m?)->(n?,m?) (size 499 is different from 1)",
     "output_type": "error",
     "traceback": [
      "\u001b[1;31m---------------------------------------------------------------------------\u001b[0m",
      "\u001b[1;31mValueError\u001b[0m                                Traceback (most recent call last)",
      "\u001b[1;32m<ipython-input-5-a59a63e136c0>\u001b[0m in \u001b[0;36m<module>\u001b[1;34m\u001b[0m\n\u001b[0;32m      1\u001b[0m \u001b[1;31m# Depth Domain in Realspace (m)\u001b[0m\u001b[1;33m\u001b[0m\u001b[1;33m\u001b[0m\u001b[1;33m\u001b[0m\u001b[0m\n\u001b[0;32m      2\u001b[0m \u001b[0mdep\u001b[0m \u001b[1;33m=\u001b[0m \u001b[0mnp\u001b[0m\u001b[1;33m.\u001b[0m\u001b[0mlinspace\u001b[0m\u001b[1;33m(\u001b[0m\u001b[1;36m0\u001b[0m\u001b[1;33m,\u001b[0m \u001b[1;36m100\u001b[0m\u001b[1;33m,\u001b[0m \u001b[1;36m500\u001b[0m\u001b[1;33m)\u001b[0m\u001b[1;33m[\u001b[0m\u001b[1;36m1\u001b[0m\u001b[1;33m:\u001b[0m\u001b[1;33m]\u001b[0m\u001b[1;33m\u001b[0m\u001b[1;33m\u001b[0m\u001b[0m\n\u001b[1;32m----> 3\u001b[1;33m \u001b[0mreal_field\u001b[0m \u001b[1;33m=\u001b[0m \u001b[0mearth\u001b[0m\u001b[1;33m.\u001b[0m\u001b[0mnormal_B_Field\u001b[0m\u001b[1;33m(\u001b[0m\u001b[0mnp\u001b[0m\u001b[1;33m.\u001b[0m\u001b[0marray\u001b[0m\u001b[1;33m(\u001b[0m\u001b[1;33m[\u001b[0m\u001b[1;36m1\u001b[0m\u001b[1;33m]\u001b[0m\u001b[1;33m)\u001b[0m\u001b[1;33m,\u001b[0m \u001b[0mdep\u001b[0m\u001b[1;33m)\u001b[0m\u001b[1;33m\u001b[0m\u001b[1;33m\u001b[0m\u001b[0m\n\u001b[0m\u001b[0;32m      4\u001b[0m \u001b[1;33m\u001b[0m\u001b[0m\n\u001b[0;32m      5\u001b[0m \u001b[0mrealfieldplot\u001b[0m \u001b[1;33m=\u001b[0m \u001b[0mgo\u001b[0m\u001b[1;33m.\u001b[0m\u001b[0mScatter\u001b[0m\u001b[1;33m(\u001b[0m\u001b[0mx\u001b[0m\u001b[1;33m=\u001b[0m\u001b[0mdep\u001b[0m\u001b[1;33m,\u001b[0m \u001b[0my\u001b[0m\u001b[1;33m=\u001b[0m\u001b[0mreal_field\u001b[0m\u001b[1;33m,\u001b[0m \u001b[0mname\u001b[0m\u001b[1;33m=\u001b[0m\u001b[1;34m'Real Space (ERROR)'\u001b[0m\u001b[1;33m)\u001b[0m\u001b[1;33m\u001b[0m\u001b[1;33m\u001b[0m\u001b[0m\n",
      "\u001b[1;32m<ipython-input-3-1d2270668cb9>\u001b[0m in \u001b[0;36mnormal_B_Field\u001b[1;34m(self, r, depth)\u001b[0m\n\u001b[0;32m     26\u001b[0m                                 depth[depth > self.h_overburden]), \n\u001b[0;32m     27\u001b[0m                            axis=0)\n\u001b[1;32m---> 28\u001b[1;33m         \u001b[0mBField\u001b[0m \u001b[1;33m=\u001b[0m \u001b[0mtransformer\u001b[0m\u001b[1;33m.\u001b[0m\u001b[0miqdht\u001b[0m\u001b[1;33m(\u001b[0m\u001b[0mHankField\u001b[0m\u001b[1;33m)\u001b[0m\u001b[1;33m\u001b[0m\u001b[1;33m\u001b[0m\u001b[0m\n\u001b[0m\u001b[0;32m     29\u001b[0m         \u001b[1;32mreturn\u001b[0m \u001b[0mBField\u001b[0m\u001b[1;33m\u001b[0m\u001b[1;33m\u001b[0m\u001b[0m\n\u001b[0;32m     30\u001b[0m \u001b[1;33m\u001b[0m\u001b[0m\n",
      "\u001b[1;32m~\\anaconda3\\lib\\site-packages\\pyhank\\hankel.py\u001b[0m in \u001b[0;36miqdht\u001b[1;34m(self, fv)\u001b[0m\n\u001b[0;32m    273\u001b[0m         \"\"\"\n\u001b[0;32m    274\u001b[0m         \u001b[0mjr\u001b[0m\u001b[1;33m,\u001b[0m \u001b[0mjv\u001b[0m \u001b[1;33m=\u001b[0m \u001b[0mself\u001b[0m\u001b[1;33m.\u001b[0m\u001b[0m_get_scaling_factors\u001b[0m\u001b[1;33m(\u001b[0m\u001b[0mfv\u001b[0m\u001b[1;33m)\u001b[0m\u001b[1;33m\u001b[0m\u001b[1;33m\u001b[0m\u001b[0m\n\u001b[1;32m--> 275\u001b[1;33m         \u001b[0mfr\u001b[0m \u001b[1;33m=\u001b[0m \u001b[0mjr\u001b[0m \u001b[1;33m*\u001b[0m \u001b[0mnp\u001b[0m\u001b[1;33m.\u001b[0m\u001b[0mmatmul\u001b[0m\u001b[1;33m(\u001b[0m\u001b[0mself\u001b[0m\u001b[1;33m.\u001b[0m\u001b[0mT\u001b[0m\u001b[1;33m,\u001b[0m \u001b[1;33m(\u001b[0m\u001b[0mfv\u001b[0m \u001b[1;33m/\u001b[0m \u001b[0mjv\u001b[0m\u001b[1;33m)\u001b[0m\u001b[1;33m)\u001b[0m\u001b[1;33m\u001b[0m\u001b[1;33m\u001b[0m\u001b[0m\n\u001b[0m\u001b[0;32m    276\u001b[0m         \u001b[1;32mreturn\u001b[0m \u001b[0mfr\u001b[0m\u001b[1;33m\u001b[0m\u001b[1;33m\u001b[0m\u001b[0m\n\u001b[0;32m    277\u001b[0m \u001b[1;33m\u001b[0m\u001b[0m\n",
      "\u001b[1;31mValueError\u001b[0m: matmul: Input operand 1 has a mismatch in its core dimension 0, with gufunc signature (n?,k),(k,m?)->(n?,m?) (size 499 is different from 1)"
     ]
    }
   ],
   "source": []
  },
  {
   "cell_type": "code",
   "execution_count": null,
   "metadata": {},
   "outputs": [],
   "source": [
    "z"
   ]
  }
 ],
 "metadata": {
  "kernelspec": {
   "display_name": "Python 3",
   "language": "python",
   "name": "python3"
  },
  "language_info": {
   "codemirror_mode": {
    "name": "ipython",
    "version": 3
   },
   "file_extension": ".py",
   "mimetype": "text/x-python",
   "name": "python",
   "nbconvert_exporter": "python",
   "pygments_lexer": "ipython3",
   "version": "3.8.3"
  }
 },
 "nbformat": 4,
 "nbformat_minor": 4
}
