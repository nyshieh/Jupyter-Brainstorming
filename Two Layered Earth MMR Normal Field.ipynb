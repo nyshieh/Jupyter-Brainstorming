{
 "cells": [
  {
   "cell_type": "code",
   "execution_count": 1,
   "metadata": {},
   "outputs": [],
   "source": [
    "import plotly.graph_objects as go\n",
    "import plotly.express as px\n",
    "from plotly.subplots import make_subplots\n",
    "import matplotlib.pyplot as plt\n",
    "import numpy as np\n",
    "from hankel import HankelTransform"
   ]
  },
  {
   "cell_type": "code",
   "execution_count": 2,
   "metadata": {},
   "outputs": [],
   "source": [
    "# We need to import spline interpolation for the inverse transformation to get smoothness\n",
    "from scipy.interpolate import InterpolatedUnivariateSpline as spline"
   ]
  },
  {
   "cell_type": "markdown",
   "metadata": {},
   "source": [
    "## Chen and Oldenburg 2004 implementation of the 2 layer system"
   ]
  },
  {
   "cell_type": "code",
   "execution_count": 6,
   "metadata": {},
   "outputs": [],
   "source": [
    "# Electrode is placed at the interface between rho1 and rho2\n",
    "class halfspace_2_layer:\n",
    "    def __init__(self, rho1, rho2, h_overburden, tx_current):\n",
    "        \"\"\"\n",
    "        Returns the field magnitude of a buried electrode located at the interface between media\n",
    "        rho1 and rho2, thickness of rho1 being defined with h_overburden\n",
    "        @return: B_field magnitude\n",
    "        \"\"\"\n",
    "        # Define a hankel transform of the first order and store it in the object\n",
    "        self.hankelTF = HankelTransform(\n",
    "            nu= 1,     # The order of the bessel function\n",
    "            N = 120,   # Number of steps in the integration\n",
    "            h = 0.001   # Proxy for \"size\" of steps in integration\n",
    "        )\n",
    "        # We'll have to tweak these parameters to optimize for \n",
    "        # speed and accuracy in the indefinite integral used in the defn of the Hankel Transform\n",
    "        \n",
    "        self.rho1 = rho1\n",
    "        self.rho2 = rho2\n",
    "        self.h_overburden = h_overburden\n",
    "        \n",
    "        self.tx_current = tx_current\n",
    "    \n",
    "    def B_Field(self, lbda, depth):\n",
    "        # Switch statement\n",
    "        if depth > self.h_overburden:\n",
    "            return self.lower_layer_bfield(lbda, depth)\n",
    "        else:\n",
    "            return self.upper_layer_bfield(lbda, depth)\n",
    "    \n",
    "    # BField in the upper layer\n",
    "    def upper_layer_bfield(self, lbda, depth):\n",
    "        # Equation 15 from Chen and Oldenburg (2004)\n",
    "        # len(lbda) must be len(depth)\n",
    "        D1 = self._D_1(lbda)\n",
    "        U1 = self._U_1(lbda)\n",
    "        hnkl_depth = self.hankelTF.transform(lambda x: depth, lbda, ret_err=False)\n",
    "        \n",
    "        term1 = self.tx_current / 2 / np.pi / lbda\n",
    "        term2 = D1 * np.exp(-lbda * hnkl_depth)\n",
    "        term3 = U1 * np.exp(lbda * hnkl_depth)\n",
    "        return term1 + term2 + term3\n",
    "    \n",
    "    def lower_layer_bfield(self, lbda, depth):\n",
    "        # Equation 16 from Chen and Oldenburg (2004)\n",
    "        D2 = self._D_2(lbda)\n",
    "        U2 = self._U_2(lbda)\n",
    "        hnkl_depth = self.hankelTF.transform(lambda x: depth - self.h_overburden, lbda, ret_err=False)\n",
    "        \n",
    "        term1 = D2 * np.exp(-lbda * hnkl_depth)\n",
    "        term2 = U2 * np.exp(lbda * hnkl_depth)\n",
    "        return term1 + term2\n",
    "    \n",
    "    ### LAYER COEFFICIENTS ###\n",
    "    def _D_1(self, lbda):\n",
    "        # Equation 17 from Chen and Oldenburg (2004)\n",
    "        hnkl_h1 = self.hankelTF.transform(lambda x: self.h_overburden, lbda, ret_err=False)\n",
    "                                \n",
    "        bot = (1-np.exp(-2*lbda*hnkl_h1)) + self.rho2 / self.rho1 * (1+np.exp(-2*lbda*hnkl_h1))\n",
    "        return self.tx_current * np.exp(-lbda * hnkl_h1) / 2 / np.pi / lbda / bot\n",
    "    \n",
    "    def _U_1(self, lbda):\n",
    "        return -self._D_1(lbda)\n",
    "    \n",
    "    def _D_2(self, lbda):\n",
    "        # Equation 18 from Chen and Oldenburg (2004)\n",
    "        hnkl_h1 = self.hankelTF.transform(lambda x: self.h_overburden, lbda, ret_err=False)\n",
    "        top = (1 + np.exp(-2 * lbda * hnkl_h1))\n",
    "        bot = (1 - np.exp(-2 * lbda * hnkl_h1)) + self.rho2 / self.rho1 * (1 + np.exp(-2*lbda*hnkl_h1))\n",
    "        return self.tx_current * top * self.rho2 / self.rho1 / 2 / np.pi / lbda / bot\n",
    "    \n",
    "    def _U_2(self, lbda):\n",
    "        return 0\n"
   ]
  },
  {
   "cell_type": "code",
   "execution_count": 7,
   "metadata": {},
   "outputs": [],
   "source": [
    "# Initialize a\n",
    "earth = halfspace_2_layer(\n",
    "                  rho1=10,\n",
    "                  rho2=20,\n",
    "                  h_overburden=250,\n",
    "                  tx_current=2)"
   ]
  },
  {
   "cell_type": "code",
   "execution_count": 8,
   "metadata": {},
   "outputs": [
    {
     "ename": "ValueError",
     "evalue": "x must be increasing if s > 0",
     "output_type": "error",
     "traceback": [
      "\u001b[1;31m---------------------------------------------------------------------------\u001b[0m",
      "\u001b[1;31mValueError\u001b[0m                                Traceback (most recent call last)",
      "\u001b[1;32m<ipython-input-8-433f7a64f3f8>\u001b[0m in \u001b[0;36m<module>\u001b[1;34m\u001b[0m\n\u001b[0;32m     12\u001b[0m \u001b[0mhankel_field\u001b[0m \u001b[1;33m=\u001b[0m \u001b[0mnp\u001b[0m\u001b[1;33m.\u001b[0m\u001b[0marray\u001b[0m\u001b[1;33m(\u001b[0m\u001b[0mlist\u001b[0m\u001b[1;33m(\u001b[0m\u001b[0mmap\u001b[0m\u001b[1;33m(\u001b[0m\u001b[1;32mlambda\u001b[0m \u001b[0md\u001b[0m\u001b[1;33m:\u001b[0m \u001b[0mearth\u001b[0m\u001b[1;33m.\u001b[0m\u001b[0mB_Field\u001b[0m\u001b[1;33m(\u001b[0m\u001b[0mlbda\u001b[0m\u001b[1;33m,\u001b[0m \u001b[0md\u001b[0m\u001b[1;33m)\u001b[0m\u001b[1;33m,\u001b[0m \u001b[0mdep\u001b[0m\u001b[1;33m)\u001b[0m\u001b[1;33m)\u001b[0m\u001b[1;33m)\u001b[0m\u001b[1;33m\u001b[0m\u001b[1;33m\u001b[0m\u001b[0m\n\u001b[0;32m     13\u001b[0m \u001b[1;33m\u001b[0m\u001b[0m\n\u001b[1;32m---> 14\u001b[1;33m \u001b[0minterp_hankel_field\u001b[0m \u001b[1;33m=\u001b[0m \u001b[0mspline\u001b[0m\u001b[1;33m(\u001b[0m\u001b[0md_hankelspace\u001b[0m\u001b[1;33m,\u001b[0m \u001b[0mhankel_field\u001b[0m\u001b[1;33m)\u001b[0m \u001b[1;31m#  Interpolate the computed field\u001b[0m\u001b[1;33m\u001b[0m\u001b[1;33m\u001b[0m\u001b[0m\n\u001b[0m\u001b[0;32m     15\u001b[0m \u001b[0mreal_field\u001b[0m \u001b[1;33m=\u001b[0m \u001b[0mearth\u001b[0m\u001b[1;33m.\u001b[0m\u001b[0mhankelTF\u001b[0m\u001b[1;33m.\u001b[0m\u001b[0mtransform\u001b[0m\u001b[1;33m(\u001b[0m\u001b[0minterp_hankel_field\u001b[0m\u001b[1;33m,\u001b[0m \u001b[0mdep\u001b[0m\u001b[1;33m,\u001b[0m \u001b[0minverse\u001b[0m\u001b[1;33m=\u001b[0m\u001b[1;32mTrue\u001b[0m\u001b[1;33m,\u001b[0m \u001b[0mret_err\u001b[0m\u001b[1;33m=\u001b[0m\u001b[1;32mFalse\u001b[0m\u001b[1;33m)\u001b[0m\u001b[1;33m\u001b[0m\u001b[1;33m\u001b[0m\u001b[0m\n\u001b[0;32m     16\u001b[0m \u001b[1;33m\u001b[0m\u001b[0m\n",
      "\u001b[1;32m~\\anaconda3\\lib\\site-packages\\scipy\\interpolate\\fitpack2.py\u001b[0m in \u001b[0;36m__init__\u001b[1;34m(self, x, y, w, bbox, k, ext, check_finite)\u001b[0m\n\u001b[0;32m    618\u001b[0m                  ext=0, check_finite=False):\n\u001b[0;32m    619\u001b[0m \u001b[1;33m\u001b[0m\u001b[0m\n\u001b[1;32m--> 620\u001b[1;33m         x, y, w, bbox, self.ext = self.validate_input(x, y, w, bbox, k, None,\n\u001b[0m\u001b[0;32m    621\u001b[0m                                             ext, check_finite)\n\u001b[0;32m    622\u001b[0m         \u001b[1;32mif\u001b[0m \u001b[1;32mnot\u001b[0m \u001b[0mnp\u001b[0m\u001b[1;33m.\u001b[0m\u001b[0mall\u001b[0m\u001b[1;33m(\u001b[0m\u001b[0mdiff\u001b[0m\u001b[1;33m(\u001b[0m\u001b[0mx\u001b[0m\u001b[1;33m)\u001b[0m \u001b[1;33m>\u001b[0m \u001b[1;36m0.0\u001b[0m\u001b[1;33m)\u001b[0m\u001b[1;33m:\u001b[0m\u001b[1;33m\u001b[0m\u001b[1;33m\u001b[0m\u001b[0m\n",
      "\u001b[1;32m~\\anaconda3\\lib\\site-packages\\scipy\\interpolate\\fitpack2.py\u001b[0m in \u001b[0;36mvalidate_input\u001b[1;34m(x, y, w, bbox, k, s, ext, check_finite)\u001b[0m\n\u001b[0;32m    195\u001b[0m         \u001b[1;32mif\u001b[0m \u001b[0ms\u001b[0m \u001b[1;32mis\u001b[0m \u001b[1;32mNone\u001b[0m \u001b[1;32mor\u001b[0m \u001b[0ms\u001b[0m \u001b[1;33m>\u001b[0m \u001b[1;36m0\u001b[0m\u001b[1;33m:\u001b[0m\u001b[1;33m\u001b[0m\u001b[1;33m\u001b[0m\u001b[0m\n\u001b[0;32m    196\u001b[0m             \u001b[1;32mif\u001b[0m \u001b[1;32mnot\u001b[0m \u001b[0mnp\u001b[0m\u001b[1;33m.\u001b[0m\u001b[0mall\u001b[0m\u001b[1;33m(\u001b[0m\u001b[0mdiff\u001b[0m\u001b[1;33m(\u001b[0m\u001b[0mx\u001b[0m\u001b[1;33m)\u001b[0m \u001b[1;33m>=\u001b[0m \u001b[1;36m0.0\u001b[0m\u001b[1;33m)\u001b[0m\u001b[1;33m:\u001b[0m\u001b[1;33m\u001b[0m\u001b[1;33m\u001b[0m\u001b[0m\n\u001b[1;32m--> 197\u001b[1;33m                 \u001b[1;32mraise\u001b[0m \u001b[0mValueError\u001b[0m\u001b[1;33m(\u001b[0m\u001b[1;34m\"x must be increasing if s > 0\"\u001b[0m\u001b[1;33m)\u001b[0m\u001b[1;33m\u001b[0m\u001b[1;33m\u001b[0m\u001b[0m\n\u001b[0m\u001b[0;32m    198\u001b[0m         \u001b[1;32melse\u001b[0m\u001b[1;33m:\u001b[0m\u001b[1;33m\u001b[0m\u001b[1;33m\u001b[0m\u001b[0m\n\u001b[0;32m    199\u001b[0m             \u001b[1;32mif\u001b[0m \u001b[1;32mnot\u001b[0m \u001b[0mnp\u001b[0m\u001b[1;33m.\u001b[0m\u001b[0mall\u001b[0m\u001b[1;33m(\u001b[0m\u001b[0mdiff\u001b[0m\u001b[1;33m(\u001b[0m\u001b[0mx\u001b[0m\u001b[1;33m)\u001b[0m \u001b[1;33m>\u001b[0m \u001b[1;36m0.0\u001b[0m\u001b[1;33m)\u001b[0m\u001b[1;33m:\u001b[0m\u001b[1;33m\u001b[0m\u001b[1;33m\u001b[0m\u001b[0m\n",
      "\u001b[1;31mValueError\u001b[0m: x must be increasing if s > 0"
     ]
    }
   ],
   "source": [
    "# We choose a lambda value for the hankel transformation\n",
    "lbda = 25\n",
    "\n",
    "# Depth Domain in Realspace (m)\n",
    "dep = np.linspace(0, 500, 500)[1:]\n",
    "\n",
    "# Domain transformed into hankel space for plotting (This isn't used because the class above will\n",
    "# do the transformation locally\n",
    "d_hankelspace = list(map(lambda d: earth.hankelTF.transform(lambda x: d, lbda, ret_err=False), dep))\n",
    "\n",
    "# Compute the field in hankel space\n",
    "hankel_field = np.array(list(map(lambda d: earth.B_Field(lbda, d), dep)))\n",
    "\n",
    "interp_hankel_field = spline(d_hankelspace, hankel_field) #  Interpolate the computed field\n",
    "real_field = earth.hankelTF.transform(interp_hankel_field, dep, inverse=True, ret_err=False)\n",
    "\n",
    "hankelfieldplot = go.Scatter(x=hankel_field, y=d_hankelspace, name='Hankel Space')\n",
    "realfieldplot = go.Scatter(x=real_field, y=dep, name='Real Space (ERROR)')\n",
    "\n",
    "figure = make_subplots(rows=1, cols=2)\n",
    "figure.update_layout(title_text=\"Hankel Space B-Field\")\n",
    "figure.add_trace(hankelfieldplot, row=1, col=1)\n",
    "figure.add_trace(realfieldplot, row=1, col=2)\n",
    "\n",
    "figure.update_xaxes(title_text=\"Azimuthal B-Field (T)\", row=1, col=1)\n",
    "figure.update_xaxes(title_text=\"Azimuthal B-Field (T)\", row=1, col=2)\n",
    "figure.update_yaxes(title_text=\"Hankel Space Depth\", autorange=\"reversed\", row=1, col=1)\n",
    "figure.update_yaxes(title_text=\"Real Space Depth\", autorange=\"reversed\", row=1, col=2)\n",
    "figure.show()"
   ]
  },
  {
   "cell_type": "code",
   "execution_count": null,
   "metadata": {},
   "outputs": [],
   "source": []
  },
  {
   "cell_type": "code",
   "execution_count": null,
   "metadata": {},
   "outputs": [],
   "source": []
  },
  {
   "cell_type": "code",
   "execution_count": null,
   "metadata": {},
   "outputs": [],
   "source": []
  }
 ],
 "metadata": {
  "kernelspec": {
   "display_name": "Python 3",
   "language": "python",
   "name": "python3"
  },
  "language_info": {
   "codemirror_mode": {
    "name": "ipython",
    "version": 3
   },
   "file_extension": ".py",
   "mimetype": "text/x-python",
   "name": "python",
   "nbconvert_exporter": "python",
   "pygments_lexer": "ipython3",
   "version": "3.8.3"
  }
 },
 "nbformat": 4,
 "nbformat_minor": 4
}
