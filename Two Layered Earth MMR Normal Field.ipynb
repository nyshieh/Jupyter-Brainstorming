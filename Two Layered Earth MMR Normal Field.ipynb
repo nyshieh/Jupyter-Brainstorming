{
 "cells": [
  {
   "cell_type": "code",
   "execution_count": 3,
   "metadata": {},
   "outputs": [],
   "source": [
    "import plotly.graph_objects as go\n",
    "import plotly.express as px\n",
    "import numpy as np\n",
    "from hankel import HankelTransform"
   ]
  },
  {
   "cell_type": "code",
   "execution_count": 4,
   "metadata": {},
   "outputs": [],
   "source": []
  },
  {
   "cell_type": "markdown",
   "metadata": {},
   "source": [
    "## Chen and Oldenburg 2004 implementation of the 2 layer system"
   ]
  },
  {
   "cell_type": "code",
   "execution_count": 13,
   "metadata": {},
   "outputs": [],
   "source": [
    "# Electrode is placed at the interface between rho1 and rho2\n",
    "class halfspace_2_layer:\n",
    "    def __init__(self, rho1, rho2, h_overburden, tx_current, src_depth):\n",
    "        \"\"\"\n",
    "        Returns the field magnitude of a buried electrode at src_depth\n",
    "        self.src_depth\n",
    "        @return: B_field magnitude\n",
    "        \"\"\"\n",
    "        # Define a hankel transform of the first order\n",
    "        self.hankelTF = HankelTransform(\n",
    "            nu= 1,     # The order of the bessel function\n",
    "            N = 120,   # Number of steps in the integration\n",
    "            h = 0.03   # Proxy for \"size\" of steps in integration\n",
    "        )\n",
    "        # We'll have to tweak these parameters to optimize for \n",
    "        # speed and accuracy in the indefinite integral used in the defn of the Hankel Transform\n",
    "        \n",
    "        self.rho1 = rho1\n",
    "        self.rho2 = rho2\n",
    "        self.h_overburden = h_overburden\n",
    "        \n",
    "        self.src_depth = src_depth\n",
    "        self.tx_current = tx_current\n",
    "\n",
    "    # BField in the upper layer\n",
    "    def _D_1(lbda):\n",
    "        # Equation 17 from Chen and Oldenburg (2004)\n",
    "        hnkl_h1 = self.hankelTF(lambda x: self.h_overburden, lbda)\n",
    "                                \n",
    "        bot = (1-np.exp(-2*lbda*hnkl_h1)) + self.rho2 / self.rho1 * (1+np.exp(-2*lbda*hnkl_h1))\n",
    "        return self.tx_current * np.exp(-lbda * hnkl_h1) / 2 / np.pi / lbda / bot\n",
    "    \n",
    "    def _U_1(lbda):\n",
    "        return -self._D_1(lbda)\n",
    "    \n",
    "    def _D_2(lbda):\n",
    "        # Equation 17 from Chen and Oldenburg (2004)\n",
    "        hnkl_h1 = self.hankelTF(lambda x: self.h_overburden, lbda)\n",
    "        top = (1 + np.exp(-2 * lbda * hnkl_h1))\n",
    "        bot = (1 - np.exp(-2 * lbda * hnkl_h1)) + self.rho2 / self.rho1 * (1 + np.exp(-2*lbda*hnkl_h1))\n",
    "        return self.tx_current * top * self.rho2 / self.rho1 / 2 / np.pi / lbda / bot\n",
    "    \n",
    "    def _U_2(lbda):\n",
    "        return 0\n"
   ]
  },
  {
   "cell_type": "code",
   "execution_count": 15,
   "metadata": {},
   "outputs": [],
   "source": [
    "# Initialize a half-space\n",
    "earth = halfspace_2_layer(rho1=100,\n",
    "                  rho2=10,\n",
    "                  h_overburden=50,\n",
    "                  tx_current=2,\n",
    "                  src_depth=25)"
   ]
  },
  {
   "cell_type": "code",
   "execution_count": null,
   "metadata": {},
   "outputs": [],
   "source": []
  }
 ],
 "metadata": {
  "kernelspec": {
   "display_name": "Python 3",
   "language": "python",
   "name": "python3"
  },
  "language_info": {
   "codemirror_mode": {
    "name": "ipython",
    "version": 3
   },
   "file_extension": ".py",
   "mimetype": "text/x-python",
   "name": "python",
   "nbconvert_exporter": "python",
   "pygments_lexer": "ipython3",
   "version": "3.8.3"
  }
 },
 "nbformat": 4,
 "nbformat_minor": 4
}
