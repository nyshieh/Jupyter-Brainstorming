{
 "cells": [
  {
   "cell_type": "markdown",
   "metadata": {},
   "source": [
    "# Modelling Current Filaments"
   ]
  },
  {
   "cell_type": "code",
   "execution_count": 4,
   "metadata": {},
   "outputs": [],
   "source": [
    "import plotly.graph_objects as po\n",
    "import numpy as np"
   ]
  },
  {
   "cell_type": "markdown",
   "metadata": {},
   "source": [
    "Lets define a filament object and an init function that creates one given a start point, azimuth, and phi - the angle from the +z axis"
   ]
  },
  {
   "cell_type": "code",
   "execution_count": 32,
   "metadata": {},
   "outputs": [],
   "source": [
    "class Filament:\n",
    "    def __init__(self, start, end):\n",
    "        self.start = start\n",
    "        self.end = end\n",
    "    def __repr__(self):\n",
    "        return \"Start: {}, End: {}\".format(self.start, self.end)\n",
    "    \n",
    "    def BField(self, X, Y, Z, I):\n",
    "        points = np.array([X, Y, Z])"
   ]
  },
  {
   "cell_type": "code",
   "execution_count": 30,
   "metadata": {},
   "outputs": [
    {
     "data": {
      "text/plain": [
       "Start: [0 0 0], End: [1.000000e+01 6.123234e-16 6.123234e-16]"
      ]
     },
     "execution_count": 30,
     "metadata": {},
     "output_type": "execute_result"
    }
   ],
   "source": [
    "def new_filament(start, length, deg_azimuth, deg_phi):\n",
    "    \"\"\"\n",
    "    Create a new filament at P_start with length oriented in the \n",
    "    direction specified by azimuth, phi \n",
    "    \"\"\"\n",
    "    start = np.array(start)\n",
    "    azi = deg_azimuth * np.pi / 180\n",
    "    phi = deg_phi * np.pi / 180\n",
    "    x,y,z = np.sin(azi), np.cos(azi), np.cos(phi)\n",
    "    dir_hat = np.array([x, y, z]) / np.linalg.norm(np.array([x, y, z]))\n",
    "    direction = length * dir_hat\n",
    "    endpoint = start + direction\n",
    "    return Filament(start, endpoint)\n",
    "\n",
    "new_filament([0,0,0], 10, 90, 90)"
   ]
  },
  {
   "cell_type": "markdown",
   "metadata": {},
   "source": [
    "Geometry definitions"
   ]
  },
  {
   "cell_type": "code",
   "execution_count": null,
   "metadata": {},
   "outputs": [],
   "source": [
    "# Collar points of the boreholes \n",
    "collar1 = np.array([550,550,0])\n",
    "collar2 = np.array([700,850,0])\n",
    "# e1 and e2 are the real space representations of the electrodes\n",
    "e1 = np.array([600,600,-100])\n",
    "e2 = np.array([700,800,-150])"
   ]
  },
  {
   "cell_type": "code",
   "execution_count": null,
   "metadata": {},
   "outputs": [],
   "source": []
  },
  {
   "cell_type": "code",
   "execution_count": null,
   "metadata": {},
   "outputs": [],
   "source": []
  }
 ],
 "metadata": {
  "kernelspec": {
   "display_name": "Python 3",
   "language": "python",
   "name": "python3"
  },
  "language_info": {
   "codemirror_mode": {
    "name": "ipython",
    "version": 3
   },
   "file_extension": ".py",
   "mimetype": "text/x-python",
   "name": "python",
   "nbconvert_exporter": "python",
   "pygments_lexer": "ipython3",
   "version": "3.8.3"
  }
 },
 "nbformat": 4,
 "nbformat_minor": 4
}
