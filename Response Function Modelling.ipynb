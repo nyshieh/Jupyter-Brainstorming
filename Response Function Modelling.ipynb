{
 "cells": [
  {
   "cell_type": "markdown",
   "metadata": {},
   "source": [
    "# Eigencurrent Response Function Testing"
   ]
  },
  {
   "cell_type": "code",
   "execution_count": 1,
   "metadata": {},
   "outputs": [
    {
     "ename": "ModuleNotFoundError",
     "evalue": "No module named 'nbimporter'",
     "output_type": "error",
     "traceback": [
      "\u001b[1;31m---------------------------------------------------------------------------\u001b[0m",
      "\u001b[1;31mModuleNotFoundError\u001b[0m                       Traceback (most recent call last)",
      "\u001b[1;32m<ipython-input-1-bb140b986bcc>\u001b[0m in \u001b[0;36m<module>\u001b[1;34m\u001b[0m\n\u001b[1;32m----> 1\u001b[1;33m \u001b[1;32mimport\u001b[0m \u001b[0mnbimporter\u001b[0m\u001b[1;33m\u001b[0m\u001b[1;33m\u001b[0m\u001b[0m\n\u001b[0m\u001b[0;32m      2\u001b[0m \u001b[1;32mimport\u001b[0m \u001b[0mCurrent_Filaments\u001b[0m\u001b[1;33m\u001b[0m\u001b[1;33m\u001b[0m\u001b[0m\n",
      "\u001b[1;31mModuleNotFoundError\u001b[0m: No module named 'nbimporter'"
     ]
    }
   ],
   "source": [
    "import nbimporter\n",
    "import Current_Filaments"
   ]
  },
  {
   "cell_type": "code",
   "execution_count": 2,
   "metadata": {},
   "outputs": [],
   "source": [
    "class Filament:\n",
    "    def __init__(self, start, end):\n",
    "        self.start = start\n",
    "        self.end = end\n",
    "    def __repr__(self):\n",
    "        return \"Start: {}, End: {}\".format(self.start, self.end)\n",
    "    \n",
    "    def BField(self, array_x, array_y, array_z, current):\n",
    "        \"\"\"\n",
    "        array_x, array_y, array_z must be ndarrays of equal shape with at least degree 3\n",
    "        I is a current value in amperes\n",
    "        \"\"\"\n",
    "        u0 = 1.25663706e-6\n",
    "        loop_array = np.array([self.start, self.end])\n",
    "        loop_diff = np.append(np.diff(loop_array, axis=0), [loop_array[0] - loop_array[-1]], axis=0)[:-1]\n",
    "        loop_shift = np.append(loop_array[1:], [loop_array[0]], axis=0)[:-1]\n",
    "        loop_array = loop_array[:-1]\n",
    "        \n",
    "        point = np.array([array_x, array_y, array_z])\n",
    "        \n",
    "        points = np.expand_dims(point, axis=1)\n",
    "        #### This tile function is fixed to (1, 2, 1, 1, 1) because there are only 2 points in a filament, \n",
    "        #### not a closed loop or multi segment\n",
    "        points = np.tile(points, (1, 2, 1, 1, 1))\n",
    "        points = points.T\n",
    "        \n",
    "        # Vectors from points to endpoints\n",
    "        AP = points - loop_array\n",
    "        BP = points - loop_shift\n",
    "        \n",
    "        # Field Math\n",
    "        r1 = np.sqrt((AP ** 2).sum(-1))[..., np.newaxis].T.squeeze().T\n",
    "        r2 = np.sqrt((BP ** 2).sum(-1))[..., np.newaxis].T.squeeze().T\n",
    "        Dot1 = np.multiply(AP, loop_diff).sum(-1)\n",
    "        Dot2 = np.multiply(BP, loop_diff).sum(-1)\n",
    "        cross = np.cross(loop_diff, AP)\n",
    "        CrossSqrd = (np.sqrt((cross ** 2).sum(-1))[..., np.newaxis]).squeeze() ** 2\n",
    "        top = (Dot1 / r1 - Dot2 / r2) * u0 * current\n",
    "        bottom = (CrossSqrd * 4 * np.pi)\n",
    "        factor = (top / bottom)\n",
    "        factor = factor[..., np.newaxis]\n",
    "\n",
    "        field = cross * factor\n",
    "        field = np.sum(field, axis=3)\n",
    "        field = field.T\n",
    "        return field[0], field[1], field[2]\n",
    "    \n",
    "    def get_scatter3d(self, name, mode='lines+markers'):\n",
    "        line = go.Scatter3d(x=[self.start[0], self.end[0]],\n",
    "                            y=[self.start[1], self.end[1]],\n",
    "                            z=[self.start[2], self.end[2]],\n",
    "                            name=name,\n",
    "                            mode=mode)\n",
    "        return line\n",
    "    \n",
    "    def get_cones(self, name, x_array, y_array, z_array, current):\n",
    "        U, V, W = U, V, W = newWire.BField(x_array, y_array, z_array, current)\n",
    "        cones = go.Cone(x=x_array.flatten(), y=y_array.flatten(), z=z_array.flatten(), \n",
    "                        u=U.flatten(), v=V.flatten(), w=W.flatten(), \n",
    "                        sizemode='scaled',\n",
    "                        sizeref=1,\n",
    "                        anchor='tail',\n",
    "                        name=name)\n",
    "        return cones\n",
    "\n",
    "# initialization function that takes in different parameters instead of a start, stop\n",
    "\n",
    "def new_filament(start, length, deg_azimuth, deg_phi):\n",
    "    \"\"\"\n",
    "    Create a new filament at P_start with length oriented in the \n",
    "    direction specified by azimuth, phi \n",
    "    \"\"\"\n",
    "    start = np.array(start)\n",
    "    azi = deg_azimuth * np.pi / 180\n",
    "    phi = deg_phi * np.pi / 180\n",
    "    # Translate out of spherical coordinates\n",
    "    x,y,z = np.sin(azi), np.cos(azi), np.cos(phi)\n",
    "    dir_hat = np.array([x, y, z]) / np.linalg.norm(np.array([x, y, z]))\n",
    "    direction = length * dir_hat\n",
    "    endpoint = start + direction\n",
    "    return Filament(start, endpoint)"
   ]
  },
  {
   "cell_type": "markdown",
   "metadata": {},
   "source": [
    "From: https://em.geosci.xyz/content/maxwell3_fdem/circuitmodel_for_eminduction/derive_response_function.html\n",
    "These EMFs are governed by Faraday’s Law\n",
    "\n",
    "$$E_j=\\frac{−M_{ij}dI_i}{dt}$$\n",
    "\n",
    "where $E_j$ is the EMF induced in one circuit by a current I_i flowing in another if Mij is their mutual inductance. The EMF induced in the Rx is therefore"
   ]
  },
  {
   "cell_type": "code",
   "execution_count": null,
   "metadata": {},
   "outputs": [],
   "source": [
    "TX_CURRENT = 10\n",
    "RAMP_TIME = 1500\n",
    "RAMP_TIME *= 1e-6\n",
    "\n",
    "dIdt = TX-CURRENT/RAMP_TIME\n"
   ]
  }
 ],
 "metadata": {
  "kernelspec": {
   "display_name": "Python 3",
   "language": "python",
   "name": "python3"
  },
  "language_info": {
   "codemirror_mode": {
    "name": "ipython",
    "version": 3
   },
   "file_extension": ".py",
   "mimetype": "text/x-python",
   "name": "python",
   "nbconvert_exporter": "python",
   "pygments_lexer": "ipython3",
   "version": "3.8.3"
  }
 },
 "nbformat": 4,
 "nbformat_minor": 4
}
