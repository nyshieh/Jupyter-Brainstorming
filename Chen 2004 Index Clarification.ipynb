{
 "cells": [
  {
   "cell_type": "markdown",
   "metadata": {},
   "source": [
    "For a setup with a source in the topmost interface and an observation also in the topmost layer:\n",
    "\n",
    "s = 1\n",
    "\n",
    "j = 1\n",
    "\n",
    "From Equation 37 for a observation in the source region:\n",
    "\n",
    "$$H_j(\\lambda, z) = \\frac{I}{2\\pi\\lambda} + D_1 e^{-\\lambda z} + U_1 e^{\\lambda z}$$\n",
    "\n",
    "Calculating $D_1$ from equation 33 requires the use of the iterator product in equation 36\n",
    "\n",
    "$$(Q_{ij}) = \\prod_{i = 0}^{1} \\Theta_{i+1} = (\\Theta_{1}) (\\Theta_{2})$$\n",
    "\n",
    "But from the definition of $\\Theta$ in equation 28:\n",
    "\n",
    "$$\\Theta_{j+1} = \\begin{pmatrix}\n",
    "\\frac{1}{2}(1 + \\frac{\\sigma_{j+1}}{\\sigma_j})e^{-2\\lambda h_j} & \\frac{1}{2}(1 - \\frac{\\sigma_{j+1}}{\\sigma_j}) \\\\\n",
    "\\frac{1}{2}(1 - \\frac{\\sigma_{j+1}}{\\sigma_j})e^{-2\\lambda h_j} & \\frac{1}{2}(1 + \\frac{\\sigma_{j+1}}{\\sigma_j}) \n",
    "\\end{pmatrix}$$\n",
    "\n",
    "For $\\Theta_1$, the definition of equation 28 becomes:\n",
    "$$\\Theta_{1} = \\begin{pmatrix}\n",
    "\\frac{1}{2}(1 + \\frac{\\sigma_{1}}{\\sigma_{0}})e^{-2\\lambda h_0} & \\frac{1}{2}(1 - \\frac{\\sigma_{1}}{\\sigma_0}) \\\\\n",
    "\\frac{1}{2}(1 - \\frac{\\sigma_{1}}{\\sigma_{0}})e^{-2\\lambda h_0} & \\frac{1}{2}(1 + \\frac{\\sigma_{1}}{\\sigma_0}) \n",
    "\\end{pmatrix}$$\n",
    "\n",
    "\n",
    "Is $\\Theta_1$ undefined due to the lack of a $\\sigma_0$ in the model? The subsitution of $\\sigma_{air}$ for $\\sigma_0$ doesn't numerically look correct due to the massive values that result.\n",
    "\n",
    "There is a similar issue for the opposite edge case with an electrode at the bottom interface z(N-1) with the product in equation 35 and its associated iterator in equation 25.\n",
    "\n",
    "Or am I using the wrong assumption with $(j+1 = i+1)$ with respect to the iterator function in equation 36(35) and 28(25)?"
   ]
  },
  {
   "cell_type": "code",
   "execution_count": null,
   "metadata": {},
   "outputs": [],
   "source": []
  }
 ],
 "metadata": {
  "kernelspec": {
   "display_name": "Python 3",
   "language": "python",
   "name": "python3"
  },
  "language_info": {
   "codemirror_mode": {
    "name": "ipython",
    "version": 3
   },
   "file_extension": ".py",
   "mimetype": "text/x-python",
   "name": "python",
   "nbconvert_exporter": "python",
   "pygments_lexer": "ipython3",
   "version": "3.8.3"
  }
 },
 "nbformat": 4,
 "nbformat_minor": 4
}
